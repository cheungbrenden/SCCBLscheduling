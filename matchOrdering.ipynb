{
 "cells": [
  {
   "cell_type": "code",
   "execution_count": 1,
   "id": "caf33dad",
   "metadata": {},
   "outputs": [],
   "source": [
    "import pandas as pd\n",
    "import re\n",
    "import copy\n",
    "from collections import Counter\n"
   ]
  },
  {
   "cell_type": "code",
   "execution_count": 7,
   "id": "659cf23e",
   "metadata": {},
   "outputs": [
    {
     "data": {
      "text/html": [
       "<div>\n",
       "<style scoped>\n",
       "    .dataframe tbody tr th:only-of-type {\n",
       "        vertical-align: middle;\n",
       "    }\n",
       "\n",
       "    .dataframe tbody tr th {\n",
       "        vertical-align: top;\n",
       "    }\n",
       "\n",
       "    .dataframe thead th {\n",
       "        text-align: right;\n",
       "    }\n",
       "</style>\n",
       "<table border=\"1\" class=\"dataframe\">\n",
       "  <thead>\n",
       "    <tr style=\"text-align: right;\">\n",
       "      <th></th>\n",
       "      <th>0</th>\n",
       "      <th>1</th>\n",
       "    </tr>\n",
       "  </thead>\n",
       "  <tbody>\n",
       "    <tr>\n",
       "      <th>0</th>\n",
       "      <td>Daniel Bielin</td>\n",
       "      <td>Jerry Wang</td>\n",
       "    </tr>\n",
       "    <tr>\n",
       "      <th>1</th>\n",
       "      <td>William Zhang</td>\n",
       "      <td>Clarence Un</td>\n",
       "    </tr>\n",
       "    <tr>\n",
       "      <th>2</th>\n",
       "      <td>Andy Wang</td>\n",
       "      <td>Edwin Yee</td>\n",
       "    </tr>\n",
       "    <tr>\n",
       "      <th>4</th>\n",
       "      <td>Isabelle Rusli</td>\n",
       "      <td>Jessica Wang</td>\n",
       "    </tr>\n",
       "    <tr>\n",
       "      <th>5</th>\n",
       "      <td>Julie Yang</td>\n",
       "      <td>Sydney Lim</td>\n",
       "    </tr>\n",
       "  </tbody>\n",
       "</table>\n",
       "</div>"
      ],
      "text/plain": [
       "                0             1\n",
       "0   Daniel Bielin    Jerry Wang\n",
       "1   William Zhang   Clarence Un\n",
       "2       Andy Wang     Edwin Yee\n",
       "4  Isabelle Rusli  Jessica Wang\n",
       "5      Julie Yang    Sydney Lim"
      ]
     },
     "execution_count": 7,
     "metadata": {},
     "output_type": "execute_result"
    }
   ],
   "source": [
    "# reads csv and removes the subs\n",
    "df = pd.read_csv(\"matches.csv\", header=None)\n",
    "df = df[(df.index + 1) % 4 != 0] \n",
    "df.head()"
   ]
  },
  {
   "cell_type": "code",
   "execution_count": 3,
   "id": "1c2e9e43",
   "metadata": {},
   "outputs": [
    {
     "name": "stdout",
     "output_type": "stream",
     "text": [
      "[['Daniel Bielin', 'Jerry Wang'], ['William Zhang', 'Clarence Un'], ['Andy Wang', 'Edwin Yee'], ['Isabelle Rusli', 'Jessica Wang'], ['Julie Yang', 'Sydney Lim'], ['Hallie Hou', 'Crystal Le'], ['Daniel Bielin/Andrew Wang', 'Jerry Wang/Clarence Un'], ['Yunus Chang/Brenden Cheung', 'Zach Streifer/Thomas Yu'], ['Andy Wang/Harry Qin', 'Samuel Fong/David Qiguan'], ['Isabelle Rusli/Julie Yang', 'Jessica Wang/Junyu Deng'], ['Kyra Sunil/Isa Griffis', 'Cori Yim/Emily Lombardi'], ['Emily La/Kelly Ha', 'Yongsi Zhu/Crystal Le'], ['William Zhang/Rinna Yu', 'Zach Streifer/Junyu Deng'], ['Harry Qin/Miranda Li', 'Thomas Yu/Sydney Lim'], ['Yu-Chen Lung/Emily La', 'Edwin Yee/Emily Lombardi'], ['Andrew Wang', 'Harshith Kaveri'], ['Brenden Cheung', 'Matthew Go'], ['JJ Choon', 'Vik Sirivong'], ['Isabelle Rusli', 'Celeste Liu'], ['Julie Yang', 'Erika Lai'], ['Hallie Hou', 'Athena Aguilar'], ['Ethan Lin/Jeremy Chen', 'Andrew Yeow/Muhammad Ramadhan'], ['JJ Choon/Samuel Chua Jia Cong', 'Matthew Go/Daniel Chang'], ['Yu-Chen Lung/Warrick He', 'Caleb Ng/Vik Sirivong'], ['Hallie Hou/Miranda Li', 'Vivian Yuan/Athena Aguilar'], ['Kyra Sunil/Isa Griffis', 'Forfeited'], ['Emily La/Kelly Ha', '                           Forfeited'], ['Ethan Lin/Julie Yang', 'Harshith Kaveri/Vivian Yuan'], ['Isabelle Rusli/Yunus Chang', 'Muhammad Ramadhan/Erika Lai'], ['Harry Qin/Miranda Li', 'Andrew Yeow/Athena Aguilar'], ['Jerry Wang', 'Mihir Raja'], ['Clarence Un', 'Kyle Pan'], ['Edwin Yee', 'Venkata Neti'], ['Jessica Wang', 'Melody Yang'], ['Sydney Lim', 'Emma Chen'], ['Crystal Le', 'Cecilia Kuang'], ['Jerry Wang/Clarence Un', 'Kyle Pan / Dylan Zou'], ['Zach Streifer/Thomas Yu', 'Venkata Neti / Anthony Wu'], ['Samuel Fong/David Qiguan', 'Kevin Liu / Aldwin Saguid'], ['Jessica Wang/Junyu Deng', 'Melody Yang / Tammy Xie'], ['Cori Yim/Emily Lombardi', 'Emma Chen / Melisssa Hui'], ['Yongsi Zhu/Crystal Le', 'Tipthanya Chanthasuthisombut / Kaitlyn Vo'], ['Zach Streifer/Junyu Deng', 'Mihir Raja / Tammy Xie'], ['Thomas Yu/Sydney Lim', 'Dylan Zou / Melissa Hui'], ['Edwin Yee/Emily Lombardi', 'Anthony Wu / Irene Lee'], ['Reno Guo', 'Dean Tan'], ['Jun Lee', 'Dillon Hoang'], ['Vivek Srinivasan', 'Nam Hoang'], ['Kaia To', 'Crystal Yang'], ['Jessica To', 'Forfeit'], ['Allison Huang', 'Forfeit'], ['Reno Guo/Zach Leung', 'Dillon Hoang/Edward Xia'], ['Benji Ryujin/Andrew Li', 'Bowen Yang/Nam Hoang'], ['Jun Lee/Pradeep Yarlagadda', 'Maxwell Lee/Xavier Santa Maria'], ['Jessica To/Kaia To', 'Crystal Yang/Kailee Nieltawee'], ['Ragalina Palaka/Allison Huang', 'Li Li/Jennifer Zheng'], ['Macy Fu/Lynette Loo', 'Forfeit'], ['Huy Nguyen/Lynette Loo', 'Crystal Yang/Dean Tan'], ['Austin Tsang/Ragalina Palaka', 'Li Li/William Liu'], ['Andrew Li/Macy Fu', 'Jennifer Zheng/Alan Le'], ['Reno Guo', 'Harshith Kaveri'], ['Jun Lee', 'Vik Sirivong'], ['Vivek Srinivasan', 'Matthew Go'], ['Ragalina Palaka', 'Celeste Liu'], ['Macy Fu', 'Erika Lai'], ['Gita Anand', 'Athena Aguilar'], ['Reno Guo/Zach Leung', 'Andrew Yeow/Muhammad Ramadhan'], ['Benji Ryujin/Andrew Li', 'Matthew Go/Willy Su'], ['Austin Tsang/Kyrell Ringpis', 'Patrick Austin/Ananda Linanda'], ['Jessica To/Kaia To', 'Vivian Yuan/Erika Lai'], ['Ragalina Palaka/Allison Huang', 'Forfeited'], ['Macy Fu/Lynette Loo', '                        Forfeited'], ['Huy Nguyen/Lynette Loo', 'Harshith Kaveri/Vivian Yuan'], ['Vivek Srinivasan/Jessica To', 'Muhammad Ramadhan/Erika Lai'], ['Benji Ryujin/Kaia To', 'Andrew Yeow/Athena Aguilar'], ['Jay Chea', 'Daniel Fung'], ['Samrat Malisetti', 'Manmeeth Nagesh'], ['Pham Nguyen', 'Jordan Hsu'], ['Janelle Chan', 'Meghan Wong'], ['Lilly Nguyen', 'Elisa Liu'], [nan, nan], ['Timothy Liu / Aron Park', 'Jordan Hsu / Manmeeth Nagesh'], ['Nickolas Toch/Mykel', 'Oscar Yan / Lantian Xiang'], ['Faiz Ishak/Tree Vu', 'Wein Hsu / Yifei Zheng'], ['Janelle Chan / Tiffany Ja', 'Kailin Liu / Meghan Wong'], [nan, nan], [nan, nan], ['Jay Chea / Tiffany Ja', 'Max Li / Kailin Liu'], ['Timothy Liu / Janelle Chan', 'Sudi Feng/ Lantian Xiang'], ['Faiz Ishak / Lilly Nguyen', 'Oscar Yan / Elisa Liu'], ['Jay Chea', 'Brandon Xu'], ['Aron Park', 'Alex Buntaran'], ['Samrat Malisetti', 'Binh To'], ['Janelle Chan', 'Jessica Nguy'], ['Lilly Nguyen', 'Kaydee Tu'], [nan, 'Julia Richardson'], ['Timothy Liu / Aron Park ', 'Brandon Xu / Jared Yee'], ['Nickolas Toch / Mykel', 'JD Singh / David Liao'], ['Faiz Ishak /Tree Vu', 'Ryan Xu / Shauryan Ratan'], ['Janelle Chan / Lilly Nguyen', 'Chenyi Zhao / Jessica Nguy'], [nan, 'Julia Richardson / Joanna Chou'], [nan, 'Forfeit'], ['Jay Chea / Tiffany Ja ', 'Justin Teng / Chenyi Zhao'], ['Timothy Liu / Janelle Chan', 'David Liao / Julia Richardson'], ['Faiz Ishak / Lilly Nguyen', 'Michael Hort / Kaydee Tu'], ['Mihir Raja', 'Harshith Kaveri'], ['Kyle Pan', 'Matthew Go'], ['Venkata Neti', 'Vik Sirivong'], ['Melody Yang', 'Celeste Liu'], ['Emma Chen', 'Athena Aguilar'], ['Cecilia Kuang', 'Erika Lai'], ['Kyle Pan / Dylan Zou', 'Andrew Yeow/Muhammad Ramadhan'], ['Venkata Neti / Anthony Wu', 'Matthew Go/Daniel Chang'], ['Kevin Liu / Aldwin Saguid', 'Caleb Ng/Vik Sirivong'], ['Melody Yang / Tammy Xie', 'Vivian Yuan/Athena Aguilar'], ['Emma Chen / Melisssa Hui', 'Forfeited'], ['Tipthanya Chanthasuthisombut / Kaitlyn Vo', '                        Forfeited'], ['Mihir Raja / Tammy Xie', 'Harshith Kaveri/Vivian Yuan'], ['Dylan Zou / Melissa Hui', 'Muhammad Ramadhan/Erika Lai'], ['Anthony Wu / Irene Lee', 'Andrew Yeow/Athena Aguilar'], ['Mihir Raja', 'Brandon Xu'], ['Kyle Pan', 'JD Singh'], ['Venkata Neti', 'Binh To'], ['Melody Yang', 'Jessica Nguy'], ['Emma Chen', 'Julia Richardson'], ['Cecilia Kuang', 'Joanna Chou'], ['Kyle Pan / Dylan Zou', 'JD Singh / Jared Yee'], ['Venkata Neti / Anthony Wu', 'Ryan Xu/Shauryan Ratan'], ['Kevin Liu / Aldwin Saguid', 'Binh To/Michael Hort'], ['Melody Yang / Tammy Xie', 'Chenyi Zhao / Jessica Nguy'], ['Emma Chen / Melisssa Hui', 'Julia Richardson / Joanna Chou'], ['Tipthanya Chanthasuthisombut / Kaitlyn Vo', 'Forfeit'], ['Mihir Raja / Tammy Xie', 'Justin Teng / Chenyi Zhao'], ['Dylan Zou / Melissa Hui', 'Alex Buntaran / Joanna Chou'], ['Anthony Wu / Irene Lee', 'Kaydee Tu / Michael Hort'], ['Daniel Fung', 'Harshith Kaveri'], ['Max Li', 'Vik Sirivong'], ['Wein Hsu', 'Matthew Go'], ['Meghan Wong', 'Erika Lai'], ['Elisa Liu', 'Athena Aguilar'], [nan, 'Vivian Yuan'], ['Jordan Hsu / Manmeeth Nagesh', 'Andrew Yeow/Muhammad Ramadhan'], ['Oscar Yan / Lantian Xiang', 'Matthew Go/Willy Su'], ['Wein Hsu / Yifei Zheng', 'Patrick Austin/Ananda Linanda'], ['Ruiqi He / Kailin Liu', 'Vivian Yuan/Erika Lai'], ['Meghan Wong / Sudi Feng', 'Forfeited'], [nan, '                            Forfeited'], ['Max Li / Kailin Liu', 'Harshith Kaveri/Vivian Yuan'], ['Daniel Fung / Sudi Feng', 'Muhammad Ramadhan/Erika Lai'], ['Elisa Liu / Yifei Zheng', 'Andrew Yeow/Athena Aguilar'], ['Daniel Fung', 'Brandon Xu'], ['Max Li', 'Justin Teng'], ['Manmeeth Nagesh', 'Binh To'], ['Meghan Wong', 'Julia Richardson'], ['Elisa Liu', 'Joanna Chou'], [nan, 'Kaydee Tu'], ['Jordan Hsu / Manmeeth Nagesh', 'JD Singh / Jared Yee'], ['Oscar Yan / Lantian Xiang', 'Alex Buntaran / David Liao'], ['Wein Hsu / Yifei Zheng', 'Ryan Xu / Shauryan Ratan'], ['Ruiqi He / Kailin Liu', 'Chenyi Zhao / Jessica Nguy'], ['Elisa Liu / Sudi Feng', 'Julia Richardson / Joanna Chou'], [nan, 'Forfeit'], ['Daniel Fung / Kailin Liu', 'Justin Teng / Chenyi Zhao'], ['Ruiqi He / Wein Hsu', 'Alex Buntaran / Joanna Chou'], ['Max Li / Sudi Feng', 'Jared Yee / Jesscia Nguy']]\n",
      "165\n"
     ]
    }
   ],
   "source": [
    "matches = []\n",
    "for index, row in df.iterrows(): \n",
    "    matches.append([row[0], row[1]])\n",
    "print(matches)\n",
    "print(len(matches))"
   ]
  },
  {
   "cell_type": "code",
   "execution_count": 30,
   "id": "a97975ca",
   "metadata": {},
   "outputs": [
    {
     "name": "stdout",
     "output_type": "stream",
     "text": [
      "144\n",
      "[('Athena Aguilar', 10), ('Erika Lai', 10), ('Harshith Kaveri', 8), ('Matthew Go', 8), ('Andrew Yeow', 8), ('Muhammad Ramadhan', 8), ('Vivian Yuan', 8), ('Mihir Raja', 6), ('Melody Yang', 6), ('Vik Sirivong', 6), ('Dylan Zou', 6), ('Tammy Xie', 6), ('Elisa Liu', 6), ('Kailin Liu', 6), ('Chenyi Zhao', 6), ('Kyle Pan', 6), ('Joanna Chou', 6), ('Venkata Neti', 6), ('Anthony Wu', 6), ('Janelle Chan', 6), ('Jessica Nguy', 5), ('Max Li', 5), ('Emma Chen', 5), ('Manmeeth Nagesh', 5), ('Daniel Fung', 5), ('Lilly Nguyen', 5), ('Julia Richardson', 5), ('Wein Hsu', 5), ('Oscar Yan', 4), ('Lantian Xiang', 4), ('Sydney Lim', 4), ('Jordan Hsu', 4), ('Thomas Yu', 4), ('Julie Yang', 4), ('Justin Teng', 4), ('Yifei Zheng', 4), ('Isabelle Rusli', 4), ('Jessica Wang', 4), ('Alex Buntaran', 4), ('Timothy Liu', 4), ('Brandon Xu', 4), ('Jared Yee', 4), ('JD Singh', 4), ('Zach Streifer', 4), ('Junyu Deng', 4), ('Faiz Ishak', 4), ('Sudi Feng', 4), ('Kaia To', 4), ('Emily Lombardi', 4), ('Jerry Wang', 4), ('Clarence Un', 4), ('Reno Guo', 4), ('Meghan Wong', 4), ('Crystal Le', 4), ('Edwin Yee', 4), ('Binh To', 4), ('Jay Chea', 4), ('Melissa Hui', 3), ('Kevin Liu', 3), ('Aldwin Saguid', 3), ('Harry Qin', 3), ('Miranda Li', 3), ('Aron Park', 3), ('Hallie Hou', 3), ('Jun Lee', 3), ('Michael Hort', 3), ('Kaydee Tu', 3), ('Crystal Yang', 3), ('Ragalina Palaka', 3), ('Jessica To', 3), ('Ruiqi He', 3), ('Vivek Srinivasan', 3), ('Celeste Liu', 3), ('Benji Ryujin', 3), ('Andrew Li', 3), ('Ryan Xu', 3), ('Shauryan Ratan', 3), ('Cecilia Kuang', 3), ('Irene Lee', 3), ('David Liao', 3), ('Tiffany Ja', 3), ('Willy Su', 2), ('Austin Tsang', 2), ('Patrick Austin', 2), ('Ananda Linanda', 2), ('Caleb Ng', 2), ('Yu-Chen Lung', 2), ('JJ Choon', 2), ('Nickolas Toch', 2), ('Mykel', 2), ('William Zhang', 2), ('Samrat Malisetti', 2), ('Li Li', 2), ('Jennifer Zheng', 2), ('Cori Yim', 2), ('Yunus Chang', 2), ('Brenden Cheung', 2), ('Daniel Bielin', 2), ('Andrew Wang', 2), ('Dean Tan', 2), ('Nam Hoang', 2), ('Melisssa Hui', 2), ('Dillon Hoang', 2), ('Tree Vu', 2), ('Zach Leung', 2), ('Daniel Chang', 2), ('Emily La', 2), ('Yongsi Zhu', 2), ('Macy Fu', 2), ('Huy Nguyen', 2), ('Lynette Loo', 2), ('Andy Wang', 2), ('Samuel Fong', 2), ('David Qiguan', 2), ('Ethan Lin', 2), ('Kyrell Ringpis', 1), ('Warrick He', 1), ('Rinna Yu', 1), ('Jesscia Nguy', 1), ('Pham Nguyen', 1), ('Allison Huang', 1), ('Kyra Sunil', 1), ('Isa Griffis', 1), ('Bowen Yang', 1), ('Pradeep Yarlagadda', 1), ('Maxwell Lee', 1), ('Xavier Santa Maria', 1), ('Edward Xia', 1), ('Samuel Chua Jia Cong', 1), ('Kelly Ha', 1), ('William Liu', 1), ('Tipthanya Chanthasuthisombut', 1), ('Kaitlyn Vo', 1), ('Kailee Nieltawee', 1), ('Jeremy Chen', 1), ('Alan Le', 1), ('Gita Anand', 1)]\n",
      "[('Mihir Raja', 'Harshith Kaveri'), ('Oscar Yan', 'Lantian Xiang', 'Matthew Go', 'Willy Su'), ('Austin Tsang', 'Kyrell Ringpis', 'Patrick Austin', 'Ananda Linanda'), ('Melody Yang', 'Jessica Nguy'), ('Max Li', 'Vik Sirivong'), ('Sydney Lim', 'Emma Chen'), ('Jordan Hsu', 'Manmeeth Nagesh', 'Andrew Yeow', 'Muhammad Ramadhan'), ('Thomas Yu', 'Sydney Lim', 'Dylan Zou', 'Melissa Hui'), ('Melody Yang', 'Tammy Xie', 'Vivian Yuan', 'Athena Aguilar'), ('Kevin Liu', 'Aldwin Saguid', 'Caleb Ng', 'Vik Sirivong'), ('Elisa Liu', 'Athena Aguilar'), ('Julie Yang', 'Erika Lai'), ('Daniel Fung', 'Kailin Liu', 'Justin Teng', 'Chenyi Zhao'), ('Elisa Liu', 'Yifei Zheng', 'Andrew Yeow', 'Athena Aguilar'), ('Isabelle Rusli', 'Jessica Wang'), ('Harry Qin', 'Miranda Li', 'Thomas Yu', 'Sydney Lim'), ('Yu-Chen Lung', 'Warrick He', 'Caleb Ng', 'Vik Sirivong'), ('Aron Park', 'Alex Buntaran'), ('Timothy Liu', 'Aron Park', 'Brandon Xu', 'Jared Yee'), ('JJ Choon', 'Vik Sirivong'), ('Nickolas Toch', 'Mykel', 'Oscar Yan', 'Lantian Xiang'), ('Jordan Hsu', 'Manmeeth Nagesh', 'JD Singh', 'Jared Yee'), ('Hallie Hou', 'Miranda Li', 'Vivian Yuan', 'Athena Aguilar'), ('William Zhang', 'Rinna Yu', 'Zach Streifer', 'Junyu Deng'), ('Jun Lee', 'Vik Sirivong'), ('Faiz Ishak', 'Lilly Nguyen', 'Michael Hort', 'Kaydee Tu'), ('Max Li', 'Sudi Feng', 'Jared Yee', 'Jesscia Nguy'), ('Faiz Ishak', 'Lilly Nguyen', 'Oscar Yan', 'Elisa Liu'), ('Samrat Malisetti', 'Manmeeth Nagesh'), ('Kaia To', 'Crystal Yang'), ('Kyle Pan', 'Dylan Zou', 'Andrew Yeow', 'Muhammad Ramadhan'), ('Pham Nguyen', 'Jordan Hsu'), ('Emma Chen', 'Julia Richardson'), ('Jessica Wang', 'Junyu Deng', 'Melody Yang', 'Tammy Xie'), ('Ragalina Palaka', 'Allison Huang', 'Li Li', 'Jennifer Zheng'), ('Max Li', 'Kailin Liu', 'Harshith Kaveri', 'Vivian Yuan'), ('Kyra Sunil', 'Isa Griffis', 'Cori Yim', 'Emily Lombardi'), ('Elisa Liu', 'Joanna Chou'), ('Yunus Chang', 'Brenden Cheung', 'Zach Streifer', 'Thomas Yu'), ('Kyle Pan', 'JD Singh'), ('Daniel Bielin', 'Andrew Wang', 'Jerry Wang', 'Clarence Un'), ('Reno Guo', 'Dean Tan'), ('Jessica To', 'Kaia To', 'Vivian Yuan', 'Erika Lai'), ('Mihir Raja', 'Tammy Xie', 'Harshith Kaveri', 'Vivian Yuan'), ('Ruiqi He', 'Wein Hsu', 'Alex Buntaran', 'Joanna Chou'), ('Vivek Srinivasan', 'Nam Hoang'), ('Ragalina Palaka', 'Celeste Liu'), ('Cori Yim', 'Emily Lombardi', 'Emma Chen', 'Melisssa Hui'), ('Julie Yang', 'Sydney Lim'), ('Benji Ryujin', 'Andrew Li', 'Bowen Yang', 'Nam Hoang'), ('Venkata Neti', 'Anthony Wu', 'Ryan Xu', 'Shauryan Ratan'), ('Meghan Wong', 'Julia Richardson'), ('Crystal Le', 'Cecilia Kuang'), ('Edwin Yee', 'Emily Lombardi', 'Anthony Wu', 'Irene Lee'), ('Wein Hsu', 'Yifei Zheng', 'Ryan Xu', 'Shauryan Ratan'), ('Lilly Nguyen', 'Kaydee Tu'), ('Timothy Liu', 'Janelle Chan', 'Sudi Feng', 'Lantian Xiang'), ('Nickolas Toch', 'Mykel', 'JD Singh', 'David Liao'), ('Andrew Wang', 'Harshith Kaveri'), ('Manmeeth Nagesh', 'Binh To'), ('Jun Lee', 'Dillon Hoang'), ('Wein Hsu', 'Matthew Go'), ('Daniel Fung', 'Sudi Feng', 'Muhammad Ramadhan', 'Erika Lai'), ('Faiz Ishak', 'Tree Vu', 'Wein Hsu', 'Yifei Zheng'), ('Kyle Pan', 'Dylan Zou', 'JD Singh', 'Jared Yee'), ('Timothy Liu', 'Aron Park', 'Jordan Hsu', 'Manmeeth Nagesh'), ('Jun Lee', 'Pradeep Yarlagadda', 'Maxwell Lee', 'Xavier Santa Maria'), ('Hallie Hou', 'Crystal Le'), ('Isabelle Rusli', 'Celeste Liu'), ('Anthony Wu', 'Irene Lee', 'Andrew Yeow', 'Athena Aguilar'), ('Cecilia Kuang', 'Erika Lai'), ('Jerry Wang', 'Clarence Un', 'Kyle Pan', 'Dylan Zou'), ('Daniel Fung', 'Brandon Xu'), ('Reno Guo', 'Zach Leung', 'Dillon Hoang', 'Edward Xia'), ('Jay Chea', 'Tiffany Ja', 'Max Li', 'Kailin Liu'), ('Meghan Wong', 'Erika Lai'), ('Brenden Cheung', 'Matthew Go'), ('Jessica Wang', 'Melody Yang'), ('Edwin Yee', 'Venkata Neti'), ('JJ Choon', 'Samuel Chua Jia Cong', 'Matthew Go', 'Daniel Chang'), ('Mihir Raja', 'Brandon Xu'), ('Kevin Liu', 'Aldwin Saguid', 'Binh To', 'Michael Hort'), ('Jerry Wang', 'Mihir Raja'), ('Faiz Ishak', 'Tree Vu', 'Ryan Xu', 'Shauryan Ratan'), ('Emily La', 'Kelly Ha', 'Yongsi Zhu', 'Crystal Le'), ('Austin Tsang', 'Ragalina Palaka', 'Li Li', 'William Liu'), ('Emma Chen', 'Melisssa Hui', 'Julia Richardson', 'Joanna Chou'), ('Oscar Yan', 'Lantian Xiang', 'Alex Buntaran', 'David Liao'), ('Zach Streifer', 'Thomas Yu', 'Venkata Neti', 'Anthony Wu'), ('Emma Chen', 'Athena Aguilar'), ('Macy Fu', 'Erika Lai'), ('Huy Nguyen', 'Lynette Loo', 'Harshith Kaveri', 'Vivian Yuan'), ('Yu-Chen Lung', 'Emily La', 'Edwin Yee', 'Emily Lombardi'), ('Melody Yang', 'Tammy Xie', 'Chenyi Zhao', 'Jessica Nguy'), ('Ruiqi He', 'Kailin Liu', 'Vivian Yuan', 'Erika Lai'), ('Mihir Raja', 'Tammy Xie', 'Justin Teng', 'Chenyi Zhao'), ('Andy Wang', 'Harry Qin', 'Samuel Fong', 'David Qiguan'), ('Venkata Neti', 'Binh To'), ('Dylan Zou', 'Melissa Hui', 'Alex Buntaran', 'Joanna Chou'), ('Clarence Un', 'Kyle Pan'), ('Yongsi Zhu', 'Crystal Le', 'Tipthanya Chanthasuthisombut', 'Kaitlyn Vo'), ('Max Li', 'Justin Teng'), ('Hallie Hou', 'Athena Aguilar'), ('Reno Guo', 'Harshith Kaveri'), ('Jessica To', 'Kaia To', 'Crystal Yang', 'Kailee Nieltawee'), ('Huy Nguyen', 'Lynette Loo', 'Crystal Yang', 'Dean Tan'), ('Ruiqi He', 'Kailin Liu', 'Chenyi Zhao', 'Jessica Nguy'), ('Vivek Srinivasan', 'Matthew Go'), ('Lilly Nguyen', 'Elisa Liu'), ('Jay Chea', 'Tiffany Ja', 'Justin Teng', 'Chenyi Zhao'), ('Anthony Wu', 'Irene Lee', 'Kaydee Tu', 'Michael Hort'), ('Andy Wang', 'Edwin Yee'), ('Vivek Srinivasan', 'Jessica To', 'Muhammad Ramadhan', 'Erika Lai'), ('Reno Guo', 'Zach Leung', 'Andrew Yeow', 'Muhammad Ramadhan'), ('Venkata Neti', 'Anthony Wu', 'Matthew Go', 'Daniel Chang'), ('William Zhang', 'Clarence Un'), ('Janelle Chan', 'Tiffany Ja', 'Kailin Liu', 'Meghan Wong'), ('Venkata Neti', 'Vik Sirivong'), ('Zach Streifer', 'Junyu Deng', 'Mihir Raja', 'Tammy Xie'), ('Wein Hsu', 'Yifei Zheng', 'Patrick Austin', 'Ananda Linanda'), ('Benji Ryujin', 'Kaia To', 'Andrew Yeow', 'Athena Aguilar'), ('Ethan Lin', 'Jeremy Chen', 'Andrew Yeow', 'Muhammad Ramadhan'), ('Janelle Chan', 'Lilly Nguyen', 'Chenyi Zhao', 'Jessica Nguy'), ('Harry Qin', 'Miranda Li', 'Andrew Yeow', 'Athena Aguilar'), ('Timothy Liu', 'Janelle Chan', 'David Liao', 'Julia Richardson'), ('Samrat Malisetti', 'Binh To'), ('Isabelle Rusli', 'Julie Yang', 'Jessica Wang', 'Junyu Deng'), ('Daniel Bielin', 'Jerry Wang'), ('Isabelle Rusli', 'Yunus Chang', 'Muhammad Ramadhan', 'Erika Lai'), ('Andrew Li', 'Macy Fu', 'Jennifer Zheng', 'Alan Le'), ('Kyle Pan', 'Matthew Go'), ('Melody Yang', 'Celeste Liu'), ('Elisa Liu', 'Sudi Feng', 'Julia Richardson', 'Joanna Chou'), ('Dylan Zou', 'Melissa Hui', 'Muhammad Ramadhan', 'Erika Lai'), ('Ethan Lin', 'Julie Yang', 'Harshith Kaveri', 'Vivian Yuan'), ('Daniel Fung', 'Harshith Kaveri'), ('Janelle Chan', 'Meghan Wong'), ('Janelle Chan', 'Jessica Nguy'), ('Jay Chea', 'Daniel Fung'), ('Jay Chea', 'Brandon Xu'), ('Gita Anand', 'Athena Aguilar'), ('Cecilia Kuang', 'Joanna Chou'), ('Benji Ryujin', 'Andrew Li', 'Matthew Go', 'Willy Su'), ('Samuel Fong', 'David Qiguan', 'Kevin Liu', 'Aldwin Saguid')]\n"
     ]
    }
   ],
   "source": [
    "# remove whitespace and forfeited matches\n",
    "# reformat matches to be a set of tuples of players in the match\n",
    "    \n",
    "allPlayerInstances = []\n",
    "reformattedMatches = []\n",
    "\n",
    "\n",
    "isNotForfeit = lambda entry : type(entry) == str and not (\"Forfeited\" in entry or \"Forfeit\" in entry)\n",
    "matches = [match for match in matches if isNotForfeit(match[0]) and isNotForfeit(match[1])]\n",
    "print(len(matches))\n",
    "\n",
    "for match in matches:\n",
    "    matchEntry = []\n",
    "    for i in range(2):\n",
    "        matchPlayers = match[i].split('/')\n",
    "        for player in matchPlayers:\n",
    "            player = player.strip()\n",
    "            allPlayerInstances.append(player)\n",
    "            matchEntry.append(player)\n",
    "\n",
    "    reformattedMatches.append(matchEntry)\n",
    "            \n",
    "players = Counter(allPlayerInstances)\n",
    "print(players.most_common())\n",
    "\n",
    "reformattedMatches = [tuple(match) for match in reformattedMatches]\n",
    "print(reformattedMatches)\n",
    "\n",
    "            "
   ]
  },
  {
   "cell_type": "code",
   "execution_count": 47,
   "id": "3037a302",
   "metadata": {},
   "outputs": [
    {
     "name": "stdout",
     "output_type": "stream",
     "text": [
      "{('Mihir Raja', 'Harshith Kaveri'), ('Reno Guo', 'Harshith Kaveri'), ('Ethan Lin', 'Julie Yang', 'Harshith Kaveri', 'Vivian Yuan'), ('Mihir Raja', 'Tammy Xie', 'Harshith Kaveri', 'Vivian Yuan'), ('Huy Nguyen', 'Lynette Loo', 'Harshith Kaveri', 'Vivian Yuan'), ('Daniel Fung', 'Harshith Kaveri'), ('Max Li', 'Kailin Liu', 'Harshith Kaveri', 'Vivian Yuan'), ('Andrew Wang', 'Harshith Kaveri')}\n"
     ]
    }
   ],
   "source": [
    "# dictionary of player to the player's matches \n",
    "\n",
    "masterDictOfPlayerMatches = dict()\n",
    "\n",
    "for match in reformattedMatches:\n",
    "    for player in match:\n",
    "        if player in masterDictOfPlayerMatches:\n",
    "            masterDictOfPlayerMatches[player].add(match)\n",
    "        else:\n",
    "            masterDictOfPlayerMatches[player] = {match}\n",
    "\n",
    "copyDictOfPlayerMatches = copy.deepcopy(masterDictOfPlayerMatches)\n",
    "\n",
    "print(copyDictOfPlayerMatches['Harshith Kaveri'])\n",
    "\n"
   ]
  },
  {
   "cell_type": "code",
   "execution_count": 50,
   "id": "ab94a265",
   "metadata": {},
   "outputs": [
    {
     "name": "stdout",
     "output_type": "stream",
     "text": [
      "{('Benji Ryujin', 'Kaia To', 'Andrew Yeow', 'Athena Aguilar'), ('Benji Ryujin', 'Andrew Li', 'Bowen Yang', 'Nam Hoang'), ('Benji Ryujin', 'Andrew Li', 'Matthew Go', 'Willy Su')}\n",
      "{('Andrew Li', 'Macy Fu', 'Jennifer Zheng', 'Alan Le'), ('Benji Ryujin', 'Andrew Li', 'Bowen Yang', 'Nam Hoang'), ('Benji Ryujin', 'Andrew Li', 'Matthew Go', 'Willy Su')}\n",
      "{('Benji Ryujin', 'Andrew Li', 'Bowen Yang', 'Nam Hoang')}\n",
      "{('Vivek Srinivasan', 'Nam Hoang'), ('Benji Ryujin', 'Andrew Li', 'Bowen Yang', 'Nam Hoang')}\n"
     ]
    },
    {
     "data": {
      "text/plain": [
       "5"
      ]
     },
     "execution_count": 50,
     "metadata": {},
     "output_type": "execute_result"
    }
   ],
   "source": [
    "# helper function to score matches\n",
    "\n",
    "def scoreMatch(match):\n",
    "    score = 0\n",
    "    for player in match:\n",
    "        score += (len(copyDictOfPlayerMatches[player]) - 1) # note: -1 to exclude the match being scored\n",
    "    return score if len(match) == 4 else score*2 # doubles match score if it's a single game\n",
    "\n",
    "\n",
    "print(copyDictOfPlayerMatches['Benji Ryujin'])\n",
    "print(copyDictOfPlayerMatches['Andrew Li'])\n",
    "print(copyDictOfPlayerMatches['Bowen Yang'])\n",
    "print(copyDictOfPlayerMatches['Nam Hoang'])\n",
    "\n",
    "scoreMatch(('Benji Ryujin', 'Andrew Li', 'Bowen Yang', 'Nam Hoang'))"
   ]
  },
  {
   "cell_type": "code",
   "execution_count": 52,
   "id": "a7b854be",
   "metadata": {},
   "outputs": [
    {
     "name": "stdout",
     "output_type": "stream",
     "text": [
      "[('Cecilia Kuang', 'Erika Lai'), ('Angela Song', 'Erika Lai'), ('Meghan Wong', 'Erika Lai'), ('Macy Fu', 'Erika Lai'), ('Daniel Fung / Sudi Feng', 'Muhammad Ramadhan/Erika Lai'), ('Ruiqi He / Kailin Liu', 'Vivian Yuan/Erika Lai'), ('Isabelle Rusli/Yunus Chang', 'Muhammad Ramadhan/Erika Lai'), ('Jessica To/Kaia To', 'Vivian Yuan/Erika Lai'), ('Vivek Srinivasan/Jessica To', 'Muhammad Ramadhan/Erika Lai'), ('Dylan Zou / Melissa Hui', 'Muhammad Ramadhan/Erika Lai'), ('Gita Anand', 'Athena Aguilar'), ('Hallie Hou', 'Athena Aguilar'), ('Elisa Liu', 'Athena Aguilar'), ('Benji Ryujin/Kaia To', 'Andrew Yeow/Athena Aguilar'), ('Emma Chen', 'Athena Aguilar'), ('Hallie Hou/Miranda Li', 'Vivian Yuan/Athena Aguilar'), ('Anthony Wu / Irene Lee', 'Andrew Yeow/Athena Aguilar'), ('Melody Yang / Tammy Xie', 'Vivian Yuan/Athena Aguilar'), ('Elisa Liu / Yifei Zheng', 'Andrew Yeow/Athena Aguilar'), ('Harry Qin/Miranda Li', 'Andrew Yeow/Athena Aguilar'), ('Benji Ryujin/Andrew Li', 'Matthew Go/Willy Su'), ('Oscar Yan / Lantian Xiang', 'Matthew Go/Willy Su'), ('Vivek Srinivasan', 'Matthew Go'), ('JJ Choon/Samuel Chua Jia Cong', 'Matthew Go/Daniel Chang'), ('Wein Hsu', 'Matthew Go'), ('Brenden Cheung', 'Matthew Go'), ('Venkata Neti / Anthony Wu', 'Matthew Go/Daniel Chang'), ('Kyle Pan', 'Matthew Go'), ('Mihir Raja', 'Harshith Kaveri'), ('Andrew Wang', 'Harshith Kaveri'), ('Ethan Lin/Julie Yang', 'Harshith Kaveri/Vivian Yuan'), ('Eric Chen / Tammy Xie', 'Harshith Kaveri/Vivian Yuan'), ('Huy Nguyen/Lynette Loo', 'Harshith Kaveri/Vivian Yuan'), ('Reno Guo', 'Harshith Kaveri'), ('Daniel Fung', 'Harshith Kaveri'), ('Max Li / Kailin Liu', 'Harshith Kaveri/Vivian Yuan'), ('Eric Chen / Dylan Zou', 'Andrew Yeow/Muhammad Ramadhan'), ('Ethan Lin/Jeremy Chen', 'Andrew Yeow/Muhammad Ramadhan'), ('Reno Guo/Zach Leung', 'Andrew Yeow/Muhammad Ramadhan'), ('Jordan Hsu / Manmeeth Nagesh', 'Andrew Yeow/Muhammad Ramadhan'), ('Lilly Nguyen', 'Joanna Chou'), ('Cecilia Kuang', 'Joanna Chou'), ('Emma Chen / Melisssa Hui', 'Julia Richardson / Joanna Chou'), ('Elisa Liu / Sudi Feng', 'Julia Richardson / Joanna Chou'), ('Dylan Zou / Melissa Hui', 'Alex Buntaran / Joanna Chou'), ('Ruiqi He / Wein Hsu', 'Alex Buntaran / Joanna Chou'), ('Elisa Liu', 'Joanna Chou'), ('Thomas Yu/Sydney Lim', 'Dylan Zou / Melissa Hui'), ('Jerry Wang/Clarence Un', 'Eric Chen / Dylan Zou'), ('Eric Chen / Dylan Zou', 'JD Singh / Jared Yee'), ('Faiz Ishak / Lilly Nguyen', 'Oscar Yan / Elisa Liu'), ('Lilly Nguyen', 'Elisa Liu'), ('Melody Yang', 'Celeste Liu'), ('Melody Yang', 'Jessica Nguy'), ('Jessica Wang/Junyu Deng', 'Melody Yang / Tammy Xie'), ('Melody Yang / Tammy Xie', 'Chenyi Zhao / Jessica Nguy'), ('Jessica Wang', 'Melody Yang'), ('Kevin Liu / Aldwin Saguid', 'Caleb Ng/Vik Sirivong'), ('Venkata Neti', 'Vik Sirivong'), ('Yu-Chen Lung/Warrick He', 'Caleb Ng/Vik Sirivong'), ('JJ Choon', 'Vik Sirivong'), ('Max Li', 'Vik Sirivong'), ('Jun Lee', 'Vik Sirivong'), ('Janelle Chan / Lilly Nguyen', 'Chenyi Zhao / Jessica Nguy'), ('Janelle Chan', 'Meghan Wong'), ('Janelle Chan', 'Jessica Nguy'), ('Timothy Liu / Janelle Chan', 'David Liao / Julia Richardson'), ('Timothy Liu / Janelle Chan', 'Sudi / Lantian Xiang'), ('Janelle Chan / Tiffany Ja', 'Kailin Liu / Meghan Wong'), ('Jay Chea / Tiffany Ja', 'Justin Teng / Chenyi Zhao'), ('Daniel Fung / Kailin Liu', 'Justin Teng / Chenyi Zhao'), ('Ruiqi He / Kailin Liu', 'Chenyi Zhao / Jessica Nguy'), ('Eric Chen / Tammy Xie', 'Justin Teng / Chenyi Zhao'), ('Anthony Wu / Irene Lee', 'Jared Yee / Jessica Nguy'), ('Zach Streifer/Thomas Yu', 'Venkata Neti / Anthony Wu'), ('Venkata Neti / Anthony Wu', 'Alex Buntaran / David Liao'), ('Edwin Yee/Emily Lombardi', 'Anthony Wu / Irene Lee'), ('Edwin Yee', 'Venkata Neti'), ('Venkata Neti', 'Binh To'), ('Zach Streifer/Junyu Deng', 'Eric Chen / Tammy Xie'), ('Jay Chea / Tiffany Ja', 'Max Li / Kailin Liu'), ('Faiz Ishak / Lilly Nguyen', 'Michael Hort / Kaydee Tu'), ('Oscar Yan / Lantian Xiang', 'Alex Buntaran / David Liao'), ('Aron Park', 'Alex Buntaran'), ('Max Li', 'Justin Teng'), ('Max Li / Sudi Feng', 'Jared Yee / Jesscia Nguy'), ('Kyle Pan', 'Justin Teng'), ('Faiz Ishak/Tree Vu', 'Wein Hsu / Yifei Zheng'), ('Wein Hsu / Yifei Zheng', 'Ryan Xu / Shauryan Ratan'), ('Wein Hsu / Yifei Zheng', 'Patrick Austin/Ananda Linanda'), ('Jordan Hsu / Manmeeth Nagesh', 'JD Singh / Jared Yee'), ('Timothy Liu / Aron Park', 'Brandon Xu / Jared Yee'), ('Timothy Liu / Aron Park', 'Jordan Hsu / Manmeeth Nagesh'), ('Manmeeth Nagesh', 'Binh To'), ('Samrat Malisetti', 'Manmeeth Nagesh'), ('Cori Yim/Emily Lombardi', 'Emma Chen / Melisssa Hui'), ('Emma Chen', 'Julia Richardson'), ('Sydney Lim', 'Emma Chen'), ('Meghan Wong', 'Julia Richardson'), ('Daniel Fung', 'Brandon Xu'), ('Jay Chea', 'Daniel Fung'), ('Yunus Chang/Brenden Cheung', 'Zach Streifer/Thomas Yu'), ('Arnold He/Hallie Hou', 'Thomas Yu/Sydney Lim'), ('Julie Yang', 'Sydney Lim'), ('Nickolas Toch/Mykel', 'Oscar Yan / Lantian Xiang'), ('Nickolas Toch / Mykel', 'JD Singh / David Liao'), ('Yongsi Zhu/Crystal Le', 'Tipthanya Chanthasuthisombut / Kaitlyn Vo'), ('Emily La/Kelly Ha', 'Yongsi Zhu/Crystal Le'), ('Angela Song', 'Crystal Le'), ('Crystal Le', 'Cecilia Kuang'), ('Faiz Ishak /Tree Vu', 'Ryan Xu / Shauryan Ratan'), ('Daniel Bielin/Andrew Wang', 'Jerry Wang/Clarence Un'), ('Daniel Bielin', 'Jerry Wang'), ('Jerry Wang', 'Mihir Raja'), ('Clarence Un', 'Kyle Pan'), ('William Zhang', 'Clarence Un'), ('Jay Chea', 'Brandon Xu'), ('Mihir Raja', 'Brandon Xu'), ('Pham Nguyen', 'Jordan Hsu'), ('William Zhang/Rinna Yu', 'Zach Streifer/Junyu Deng'), ('Reno Guo/Zach Leung', 'Dillon Hoang/Edward Xia'), ('Reno Guo', 'Dean Tan'), ('Kyra Sunil/Isa Griffis', 'Cori Yim/Emily Lombardi'), ('Yu-Chen Lung/Emily La', 'Edwin Yee/Emily Lombardi'), ('Kaia To', 'Crystal Yang'), ('Jessica To/Kaia To', 'Crystal Yang/Kailee Nieltawee'), ('Isabelle Rusli', 'Jessica Wang'), ('Isabelle Rusli', 'Celeste Liu'), ('Isabelle Rusli/Angela Song', 'Jessica Wang/Junyu Deng'), ('Andy Wang', 'Edwin Yee'), ('Benji Ryujin/Andrew Li', 'Bowen Yang/Nam Hoang'), ('Andrew Li/Macy Fu', 'Jennifer Zheng/Alan Le'), ('Huy Nguyen/Lynette Loo', 'Crystal Yang/Dean Tan'), ('Ragalina Palaka', 'Celeste Liu'), ('Samuel Fong/David Qiguan', 'Kevin Liu / Aldwin Saguid'), ('Kevin Liu / Aldwin Saguid', 'Ryan Xu / Shauryan Ratan'), ('Austin Tsang/Ragalina Palaka', 'Li Li/William Liu'), ('Ragalina Palaka/Allison Huang', 'Li Li/Jennifer Zheng'), ('Jun Lee', 'Dillon Hoang'), ('Jun Lee/Pradeep Yarlagadda', 'Maxwell Lee/Xavier Santa Maria'), ('Vivek Srinivasan', 'Nam Hoang'), ('Samrat Malisetti', 'Binh To'), ('Austin Tsang/Kyrell Ringpis', 'Patrick Austin/Ananda Linanda'), ('Andy Wang/Harry Qin', 'Samuel Fong/David Qiguan')]\n",
      "144\n"
     ]
    }
   ],
   "source": [
    "# allMatches = []\n",
    "\n",
    "# for i, _ in players.most_common():\n",
    "#     for j in matchesOfPlayer(i):\n",
    "#         if not (j in allMatches):\n",
    "#             allMatches.append(j)\n",
    "    \n",
    "# print(allMatches)\n",
    "# print(len(allMatches))\n",
    "\n",
    "# final_df = pd.DataFrame(allMatches)\n",
    "# final_df.head()\n",
    "# final_df.to_csv('matchesOrdered.csv')"
   ]
  },
  {
   "cell_type": "code",
   "execution_count": 46,
   "id": "9e7db855",
   "metadata": {},
   "outputs": [
    {
     "name": "stdout",
     "output_type": "stream",
     "text": [
      "{('Cecilia Kuang', 'Erika Lai'), ('Gita Anand', 'Athena Aguilar'), ('Thomas Yu/Sydney Lim', 'Dylan Zou / Melissa Hui'), ('Benji Ryujin/Andrew Li', 'Matthew Go/Willy Su'), ('Hallie Hou', 'Athena Aguilar'), ('Lilly Nguyen', 'Joanna Chou'), ('Cecilia Kuang', 'Joanna Chou'), ('Oscar Yan / Lantian Xiang', 'Alex Buntaran / David Liao'), ('Mihir Raja', 'Harshith Kaveri'), ('Huy Nguyen/Lynette Loo', 'Crystal Yang/Dean Tan'), ('Yongsi Zhu/Crystal Le', 'Tipthanya Chanthasuthisombut / Kaitlyn Vo'), ('Elisa Liu', 'Athena Aguilar'), ('Melody Yang', 'Celeste Liu'), ('Max Li', 'Justin Teng'), ('Andrew Wang', 'Harshith Kaveri'), ('Angela Song', 'Erika Lai'), ('Faiz Ishak/Tree Vu', 'Wein Hsu / Yifei Zheng'), ('Kevin Liu / Aldwin Saguid', 'Caleb Ng/Vik Sirivong'), ('Daniel Bielin/Andrew Wang', 'Jerry Wang/Clarence Un'), ('Wein Hsu / Yifei Zheng', 'Ryan Xu / Shauryan Ratan'), ('Janelle Chan / Lilly Nguyen', 'Chenyi Zhao / Jessica Nguy'), ('Jordan Hsu / Manmeeth Nagesh', 'JD Singh / Jared Yee'), ('Jay Chea', 'Brandon Xu'), ('Meghan Wong', 'Erika Lai'), ('Anthony Wu / Irene Lee', 'Jared Yee / Jessica Nguy'), ('Zach Streifer/Thomas Yu', 'Venkata Neti / Anthony Wu'), ('Reno Guo/Zach Leung', 'Dillon Hoang/Edward Xia'), ('Cori Yim/Emily Lombardi', 'Emma Chen / Melisssa Hui'), ('Eric Chen / Dylan Zou', 'Andrew Yeow/Muhammad Ramadhan'), ('Andrew Li/Macy Fu', 'Jennifer Zheng/Alan Le'), ('Benji Ryujin/Kaia To', 'Andrew Yeow/Athena Aguilar'), ('Emma Chen / Melisssa Hui', 'Julia Richardson / Joanna Chou'), ('Austin Tsang/Ragalina Palaka', 'Li Li/William Liu'), ('Wein Hsu / Yifei Zheng', 'Patrick Austin/Ananda Linanda'), ('Yunus Chang/Brenden Cheung', 'Zach Streifer/Thomas Yu'), ('Ragalina Palaka', 'Celeste Liu'), ('Isabelle Rusli', 'Jessica Wang'), ('Zach Streifer/Junyu Deng', 'Eric Chen / Tammy Xie'), ('Ragalina Palaka/Allison Huang', 'Li Li/Jennifer Zheng'), ('William Zhang/Rinna Yu', 'Zach Streifer/Junyu Deng'), ('Faiz Ishak / Lilly Nguyen', 'Michael Hort / Kaydee Tu'), ('Venkata Neti', 'Vik Sirivong'), ('Daniel Bielin', 'Jerry Wang'), ('Jay Chea / Tiffany Ja', 'Justin Teng / Chenyi Zhao'), ('Emma Chen', 'Athena Aguilar'), ('Emily La/Kelly Ha', 'Yongsi Zhu/Crystal Le'), ('Timothy Liu / Aron Park', 'Brandon Xu / Jared Yee'), ('Isabelle Rusli', 'Celeste Liu'), ('Emma Chen', 'Julia Richardson'), ('Venkata Neti / Anthony Wu', 'Alex Buntaran / David Liao'), ('Nickolas Toch/Mykel', 'Oscar Yan / Lantian Xiang'), ('Edwin Yee', 'Venkata Neti'), ('Macy Fu', 'Erika Lai'), ('Edwin Yee/Emily Lombardi', 'Anthony Wu / Irene Lee'), ('Andy Wang/Harry Qin', 'Samuel Fong/David Qiguan'), ('Jun Lee', 'Dillon Hoang'), ('Daniel Fung', 'Brandon Xu'), ('Ethan Lin/Jeremy Chen', 'Andrew Yeow/Muhammad Ramadhan'), ('Yu-Chen Lung/Warrick He', 'Caleb Ng/Vik Sirivong'), ('Nickolas Toch / Mykel', 'JD Singh / David Liao'), ('Samuel Fong/David Qiguan', 'Kevin Liu / Aldwin Saguid'), ('Elisa Liu / Sudi Feng', 'Julia Richardson / Joanna Chou'), ('Hallie Hou/Miranda Li', 'Vivian Yuan/Athena Aguilar'), ('Melody Yang', 'Jessica Nguy'), ('Oscar Yan / Lantian Xiang', 'Matthew Go/Willy Su'), ('Andy Wang', 'Edwin Yee'), ('Ethan Lin/Julie Yang', 'Harshith Kaveri/Vivian Yuan'), ('Kaia To', 'Crystal Yang'), ('Jessica Wang/Junyu Deng', 'Melody Yang / Tammy Xie'), ('Faiz Ishak / Lilly Nguyen', 'Oscar Yan / Elisa Liu'), ('Jessica To/Kaia To', 'Crystal Yang/Kailee Nieltawee'), ('Jay Chea', 'Daniel Fung'), ('Daniel Fung / Sudi Feng', 'Muhammad Ramadhan/Erika Lai'), ('Clarence Un', 'Kyle Pan'), ('Meghan Wong', 'Julia Richardson'), ('Faiz Ishak /Tree Vu', 'Ryan Xu / Shauryan Ratan'), ('Eric Chen / Tammy Xie', 'Harshith Kaveri/Vivian Yuan'), ('Daniel Fung / Kailin Liu', 'Justin Teng / Chenyi Zhao'), ('Ruiqi He / Kailin Liu', 'Chenyi Zhao / Jessica Nguy'), ('Aron Park', 'Alex Buntaran'), ('Dylan Zou / Melissa Hui', 'Alex Buntaran / Joanna Chou'), ('Kyra Sunil/Isa Griffis', 'Cori Yim/Emily Lombardi'), ('Yu-Chen Lung/Emily La', 'Edwin Yee/Emily Lombardi'), ('Melody Yang / Tammy Xie', 'Chenyi Zhao / Jessica Nguy'), ('Anthony Wu / Irene Lee', 'Andrew Yeow/Athena Aguilar'), ('Kyle Pan', 'Justin Teng'), ('Ruiqi He / Wein Hsu', 'Alex Buntaran / Joanna Chou'), ('Vivek Srinivasan', 'Nam Hoang'), ('JJ Choon', 'Vik Sirivong'), ('Angela Song', 'Crystal Le'), ('Huy Nguyen/Lynette Loo', 'Harshith Kaveri/Vivian Yuan'), ('Janelle Chan', 'Meghan Wong'), ('Jerry Wang/Clarence Un', 'Eric Chen / Dylan Zou'), ('Mihir Raja', 'Brandon Xu'), ('Ruiqi He / Kailin Liu', 'Vivian Yuan/Erika Lai'), ('Arnold He/Hallie Hou', 'Thomas Yu/Sydney Lim'), ('Janelle Chan', 'Jessica Nguy'), ('Melody Yang / Tammy Xie', 'Vivian Yuan/Athena Aguilar'), ('Samrat Malisetti', 'Binh To'), ('Vivek Srinivasan', 'Matthew Go'), ('Timothy Liu / Aron Park', 'Jordan Hsu / Manmeeth Nagesh'), ('Isabelle Rusli/Yunus Chang', 'Muhammad Ramadhan/Erika Lai'), ('Reno Guo/Zach Leung', 'Andrew Yeow/Muhammad Ramadhan'), ('Austin Tsang/Kyrell Ringpis', 'Patrick Austin/Ananda Linanda'), ('Jessica To/Kaia To', 'Vivian Yuan/Erika Lai'), ('Elisa Liu', 'Joanna Chou'), ('JJ Choon/Samuel Chua Jia Cong', 'Matthew Go/Daniel Chang'), ('Pham Nguyen', 'Jordan Hsu'), ('Wein Hsu', 'Matthew Go'), ('Eric Chen / Dylan Zou', 'JD Singh / Jared Yee'), ('Jordan Hsu / Manmeeth Nagesh', 'Andrew Yeow/Muhammad Ramadhan'), ('Elisa Liu / Yifei Zheng', 'Andrew Yeow/Athena Aguilar'), ('Manmeeth Nagesh', 'Binh To'), ('Samrat Malisetti', 'Manmeeth Nagesh'), ('Reno Guo', 'Harshith Kaveri'), ('Jun Lee/Pradeep Yarlagadda', 'Maxwell Lee/Xavier Santa Maria'), ('William Zhang', 'Clarence Un'), ('Daniel Fung', 'Harshith Kaveri'), ('Jay Chea / Tiffany Ja', 'Max Li / Kailin Liu'), ('Brenden Cheung', 'Matthew Go'), ('Max Li', 'Vik Sirivong'), ('Sydney Lim', 'Emma Chen'), ('Max Li / Kailin Liu', 'Harshith Kaveri/Vivian Yuan'), ('Lilly Nguyen', 'Elisa Liu'), ('Venkata Neti / Anthony Wu', 'Matthew Go/Daniel Chang'), ('Eric Chen / Tammy Xie', 'Justin Teng / Chenyi Zhao'), ('Venkata Neti', 'Binh To'), ('Kevin Liu / Aldwin Saguid', 'Ryan Xu / Shauryan Ratan'), ('Timothy Liu / Janelle Chan', 'David Liao / Julia Richardson'), ('Harry Qin/Miranda Li', 'Andrew Yeow/Athena Aguilar'), ('Jun Lee', 'Vik Sirivong'), ('Reno Guo', 'Dean Tan'), ('Timothy Liu / Janelle Chan', 'Sudi / Lantian Xiang'), ('Kyle Pan', 'Matthew Go'), ('Isabelle Rusli/Angela Song', 'Jessica Wang/Junyu Deng'), ('Julie Yang', 'Sydney Lim'), ('Janelle Chan / Tiffany Ja', 'Kailin Liu / Meghan Wong'), ('Crystal Le', 'Cecilia Kuang'), ('Vivek Srinivasan/Jessica To', 'Muhammad Ramadhan/Erika Lai'), ('Jessica Wang', 'Melody Yang'), ('Benji Ryujin/Andrew Li', 'Bowen Yang/Nam Hoang'), ('Max Li / Sudi Feng', 'Jared Yee / Jesscia Nguy'), ('Dylan Zou / Melissa Hui', 'Muhammad Ramadhan/Erika Lai'), ('Jerry Wang', 'Mihir Raja')}\n"
     ]
    }
   ],
   "source": [
    "# copy_matches = copy.deepcopy(matches)\n"
   ]
  }
 ],
 "metadata": {
  "kernelspec": {
   "display_name": "Python 3 (ipykernel)",
   "language": "python",
   "name": "python3"
  },
  "language_info": {
   "codemirror_mode": {
    "name": "ipython",
    "version": 3
   },
   "file_extension": ".py",
   "mimetype": "text/x-python",
   "name": "python",
   "nbconvert_exporter": "python",
   "pygments_lexer": "ipython3",
   "version": "3.11.4"
  }
 },
 "nbformat": 4,
 "nbformat_minor": 5
}
